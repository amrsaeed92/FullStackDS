{
 "cells": [
  {
   "cell_type": "markdown",
   "metadata": {},
   "source": [
    "### 1. What advantages do Excel spreadsheets have over CSV spreadsheets?"
   ]
  },
  {
   "cell_type": "markdown",
   "metadata": {},
   "source": [
    "Excel Files is more developed than CSV, and Excel: \n",
    "    \n",
    "    Can have values of data types other than string\n",
    "    Can have settings for font size or color\n",
    "    Can have multiple worksheets\n",
    "    We can specify cell widths and heights\n",
    "    We can merge cells\n",
    "    Can have images or charts embedded in them\n"
   ]
  },
  {
   "cell_type": "markdown",
   "metadata": {},
   "source": [
    "### 2.What do you pass to csv.reader() and csv.writer() to create reader and writer objects?"
   ]
  },
  {
   "cell_type": "code",
   "execution_count": 1,
   "metadata": {},
   "outputs": [],
   "source": [
    "import csv\n",
    "#In csv.reader() we pass file and dialect.\n",
    "#In csv.writer() we pass fileobj and dialect."
   ]
  },
  {
   "cell_type": "markdown",
   "metadata": {},
   "source": [
    "### 3. What modes do File objects for reader and writer objects need to be opened in?"
   ]
  },
  {
   "cell_type": "code",
   "execution_count": 2,
   "metadata": {},
   "outputs": [
    {
     "data": {
      "text/plain": [
       "\"\\n    for reader object we open file in read mode 'r'\\n    \\n    for writer object we open file in write mode 'w'.\\n\""
      ]
     },
     "execution_count": 2,
     "metadata": {},
     "output_type": "execute_result"
    }
   ],
   "source": [
    "'''\n",
    "    for reader object we open file in read mode 'r'\n",
    "    \n",
    "    for writer object we open file in write mode 'w'.\n",
    "'''"
   ]
  },
  {
   "cell_type": "markdown",
   "metadata": {},
   "source": [
    "### 4. What method takes a list argument and writes it to a CSV file?"
   ]
  },
  {
   "cell_type": "code",
   "execution_count": 3,
   "metadata": {},
   "outputs": [
    {
     "data": {
      "text/plain": [
       "'use writerow() method for list argument in csv file.'"
      ]
     },
     "execution_count": 3,
     "metadata": {},
     "output_type": "execute_result"
    }
   ],
   "source": [
    "'''use writerow() method for list argument in csv file.'''"
   ]
  },
  {
   "cell_type": "markdown",
   "metadata": {},
   "source": [
    "### 5. What do the keyword arguments delimiter and line terminator do?"
   ]
  },
  {
   "cell_type": "code",
   "execution_count": 6,
   "metadata": {},
   "outputs": [
    {
     "data": {
      "text/plain": [
       "\"\\n    firstname, lastname, age\\n    rushikesh, pokale, 22\\n    manish, pokale, 25\\n    \\n    here ',' is delimiter we can use any character as per our needs.\\n    line terminator comes at end of line by default it is newline and can be changed accourding to requirement.\\n\""
      ]
     },
     "execution_count": 6,
     "metadata": {},
     "output_type": "execute_result"
    }
   ],
   "source": [
    "'''\n",
    "    firstname, lastname, age\n",
    "    rushikesh, pokale, 22\n",
    "    manish, pokale, 25\n",
    "    \n",
    "    here ',' is delimiter we can use any character as per our needs.\n",
    "    line terminator comes at end of line by default it is newline and can be changed accourding to requirement.\n",
    "'''"
   ]
  },
  {
   "cell_type": "markdown",
   "metadata": {},
   "source": [
    "### 6. What function takes a string of JSON data and returns a Python data structure?"
   ]
  },
  {
   "cell_type": "code",
   "execution_count": 7,
   "metadata": {},
   "outputs": [],
   "source": [
    "#dumps() function convert json data into python data structure. "
   ]
  },
  {
   "cell_type": "markdown",
   "metadata": {},
   "source": [
    "### 7. What function takes a Python data structure and returns a string of JSON data?"
   ]
  },
  {
   "cell_type": "code",
   "execution_count": null,
   "metadata": {},
   "outputs": [],
   "source": [
    "#loads() function converts python data structure and returns a string of json data."
   ]
  }
 ],
 "metadata": {
  "kernelspec": {
   "display_name": "Python 3",
   "language": "python",
   "name": "python3"
  },
  "language_info": {
   "codemirror_mode": {
    "name": "ipython",
    "version": 3
   },
   "file_extension": ".py",
   "mimetype": "text/x-python",
   "name": "python",
   "nbconvert_exporter": "python",
   "pygments_lexer": "ipython3",
   "version": "3.8.5"
  }
 },
 "nbformat": 4,
 "nbformat_minor": 5
}
