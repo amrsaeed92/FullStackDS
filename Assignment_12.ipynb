{
 "cells": [
  {
   "cell_type": "markdown",
   "metadata": {},
   "source": [
    "### 1. In what modes should the PdfFileReader() and PdfFileWriter() File objects will be opened?"
   ]
  },
  {
   "cell_type": "code",
   "execution_count": 4,
   "metadata": {},
   "outputs": [],
   "source": [
    "\n",
    "import PyPDF2"
   ]
  },
  {
   "cell_type": "markdown",
   "metadata": {},
   "source": [
    "    PdfFileReader() -- it is used in 'rb' mode i.e. read binary\n",
    "    PdfFileWriter() -- it is used in 'wb' mode i.e. write binary"
   ]
  },
  {
   "cell_type": "markdown",
   "metadata": {},
   "source": [
    "### 2. From a PdfFileReader object, how do you get a Page object for page 5?"
   ]
  },
  {
   "cell_type": "markdown",
   "metadata": {},
   "source": [
    "    using the getpage(5) method."
   ]
  },
  {
   "cell_type": "markdown",
   "metadata": {},
   "source": [
    "### 3. What PdfFileReader variable stores the number of pages in the PDF document?"
   ]
  },
  {
   "cell_type": "markdown",
   "metadata": {},
   "source": [
    "    numPages stores the total no of pages in a pdf"
   ]
  },
  {
   "cell_type": "markdown",
   "metadata": {},
   "source": [
    "### 4. If a PdfFileReader object’s PDF is encrypted with the password swordfish, what must you do before you can obtain Page objects from it?"
   ]
  },
  {
   "cell_type": "code",
   "execution_count": 7,
   "metadata": {},
   "outputs": [],
   "source": [
    "import PyPDF2\n",
    "pdf = PyPDF2.PdfFileReader(open('D:/amr.pdf', 'rb'))\n",
    "if pdf.isEncrypted:\n",
    "    pdf.decrypt('swordfish')\n"
   ]
  },
  {
   "cell_type": "markdown",
   "metadata": {},
   "source": [
    "### 5. What methods do you use to rotate a page?"
   ]
  },
  {
   "cell_type": "code",
   "execution_count": 18,
   "metadata": {},
   "outputs": [
    {
     "data": {
      "text/plain": [
       "{'/Contents': [IndirectObject(4, 0),\n",
       "  IndirectObject(5, 0),\n",
       "  IndirectObject(6, 0),\n",
       "  IndirectObject(7, 0),\n",
       "  IndirectObject(8, 0),\n",
       "  IndirectObject(9, 0),\n",
       "  IndirectObject(10, 0),\n",
       "  IndirectObject(11, 0),\n",
       "  IndirectObject(12, 0),\n",
       "  IndirectObject(13, 0),\n",
       "  IndirectObject(14, 0),\n",
       "  IndirectObject(15, 0),\n",
       "  IndirectObject(16, 0),\n",
       "  IndirectObject(17, 0),\n",
       "  IndirectObject(18, 0),\n",
       "  IndirectObject(19, 0),\n",
       "  IndirectObject(20, 0),\n",
       "  IndirectObject(21, 0),\n",
       "  IndirectObject(22, 0),\n",
       "  IndirectObject(23, 0),\n",
       "  IndirectObject(24, 0),\n",
       "  IndirectObject(25, 0),\n",
       "  IndirectObject(26, 0),\n",
       "  IndirectObject(27, 0),\n",
       "  IndirectObject(28, 0),\n",
       "  IndirectObject(29, 0),\n",
       "  IndirectObject(30, 0),\n",
       "  IndirectObject(31, 0),\n",
       "  IndirectObject(32, 0),\n",
       "  IndirectObject(33, 0),\n",
       "  IndirectObject(34, 0),\n",
       "  IndirectObject(35, 0),\n",
       "  IndirectObject(36, 0),\n",
       "  IndirectObject(37, 0),\n",
       "  IndirectObject(38, 0),\n",
       "  IndirectObject(39, 0),\n",
       "  IndirectObject(40, 0),\n",
       "  IndirectObject(41, 0),\n",
       "  IndirectObject(42, 0),\n",
       "  IndirectObject(43, 0),\n",
       "  IndirectObject(44, 0),\n",
       "  IndirectObject(45, 0),\n",
       "  IndirectObject(46, 0),\n",
       "  IndirectObject(47, 0),\n",
       "  IndirectObject(48, 0)],\n",
       " '/CropBox': [0, 0, 595.32001, 841.92004],\n",
       " '/MediaBox': [0, 0, 595.32001, 841.92004],\n",
       " '/Parent': {'/Count': 4,\n",
       "  '/Kids': [IndirectObject(3, 0),\n",
       "   IndirectObject(50, 0),\n",
       "   IndirectObject(101, 0),\n",
       "   IndirectObject(136, 0)],\n",
       "  '/Type': '/Pages'},\n",
       " '/Resources': {},\n",
       " '/Rotate': 0,\n",
       " '/Type': '/Page'}"
      ]
     },
     "execution_count": 18,
     "metadata": {},
     "output_type": "execute_result"
    }
   ],
   "source": [
    "pdf.getPage(0).rotateCounterClockwise(90)  #For anticlockwise \n",
    "pdf.getPage(0).rotateClockwise(90)  #for clockwise"
   ]
  },
  {
   "cell_type": "markdown",
   "metadata": {},
   "source": [
    "### 6. What is the difference between a Run object and a Paragraph object?"
   ]
  },
  {
   "cell_type": "markdown",
   "metadata": {},
   "source": [
    "    A Run object is a contiguous run of text with the same style. \n",
    "    If text is supplied, the new paragraph contains that text in a single run. \n",
    "    If style is provided, that style is assigned to the new paragraph. \n",
    "    The ParagraphFormat object providing access to the formatting properties for this paragraph,\n",
    "    such as line spacing and indentation."
   ]
  },
  {
   "cell_type": "markdown",
   "metadata": {},
   "source": [
    "### 7. How do you obtain a list of Paragraph objects for a Document object that’s stored in a variable named doc? "
   ]
  },
  {
   "cell_type": "code",
   "execution_count": 19,
   "metadata": {},
   "outputs": [
    {
     "name": "stdout",
     "output_type": "stream",
     "text": [
      "Collecting python-docx\n",
      "  Downloading python-docx-0.8.11.tar.gz (5.6 MB)\n",
      "Requirement already satisfied: lxml>=2.3.2 in c:\\programdata\\anaconda3\\lib\\site-packages (from python-docx) (4.6.1)\n",
      "Building wheels for collected packages: python-docx\n",
      "  Building wheel for python-docx (setup.py): started\n",
      "  Building wheel for python-docx (setup.py): finished with status 'done'\n",
      "  Created wheel for python-docx: filename=python_docx-0.8.11-py3-none-any.whl size=184605 sha256=48a6d924f6e965701d8f341e8cd8332c6e46229391cc126780f3204ecf1b531f\n",
      "  Stored in directory: c:\\users\\96777\\appdata\\local\\pip\\cache\\wheels\\32\\b8\\b2\\c4c2b95765e615fe139b0b17b5ea7c0e1b6519b0a9ec8fb34d\n",
      "Successfully built python-docx\n",
      "Installing collected packages: python-docx\n",
      "Successfully installed python-docx-0.8.11\n",
      "Note: you may need to restart the kernel to use updated packages.\n"
     ]
    }
   ],
   "source": [
    "pip install python-docx"
   ]
  },
  {
   "cell_type": "code",
   "execution_count": 20,
   "metadata": {},
   "outputs": [],
   "source": [
    "import docx"
   ]
  },
  {
   "cell_type": "code",
   "execution_count": 22,
   "metadata": {},
   "outputs": [
    {
     "data": {
      "text/plain": [
       "4"
      ]
     },
     "execution_count": 22,
     "metadata": {},
     "output_type": "execute_result"
    }
   ],
   "source": [
    "d = docx.Document(r'D:\\Amr_Saeed_CV.docx')\n",
    "len(d.paragraphs)"
   ]
  },
  {
   "cell_type": "markdown",
   "metadata": {},
   "source": [
    "### 8. What type of object has bold, underline, italic, strike, and outline variables?"
   ]
  },
  {
   "cell_type": "markdown",
   "metadata": {},
   "source": [
    "    Run object"
   ]
  },
  {
   "cell_type": "markdown",
   "metadata": {},
   "source": [
    "### 9. What is the difference between False, True, and None for the bold variable?"
   ]
  },
  {
   "cell_type": "markdown",
   "metadata": {},
   "source": [
    "    True = on\n",
    "    False = off\n",
    "    none = not available"
   ]
  },
  {
   "cell_type": "markdown",
   "metadata": {},
   "source": [
    "### 10. How do you create a Document object for a new Word document?"
   ]
  },
  {
   "cell_type": "code",
   "execution_count": 7,
   "metadata": {},
   "outputs": [],
   "source": [
    "doc = docx.Document()\n",
    "doc.add_paragraph('world')\n",
    "doc.save('hello.docx')"
   ]
  },
  {
   "cell_type": "markdown",
   "metadata": {},
   "source": [
    "### 11. How do you add a paragraph with the text &#39;Hello, there!&#39; to a Document object stored in a variable named doc?"
   ]
  },
  {
   "cell_type": "code",
   "execution_count": 23,
   "metadata": {},
   "outputs": [],
   "source": [
    "doc = docx.Document()\n",
    "doc.add_paragraph('This is my first paragraph!')\n",
    "doc.save('example.docx')"
   ]
  },
  {
   "cell_type": "markdown",
   "metadata": {},
   "source": [
    "### 12. What integers represent the levels of headings available in Word documents?"
   ]
  },
  {
   "cell_type": "markdown",
   "metadata": {},
   "source": [
    "    integers 1 to 4 are for various heading levels where 1 is main heading and 4 the lowest subheading."
   ]
  }
 ],
 "metadata": {
  "kernelspec": {
   "display_name": "Python 3",
   "language": "python",
   "name": "python3"
  },
  "language_info": {
   "codemirror_mode": {
    "name": "ipython",
    "version": 3
   },
   "file_extension": ".py",
   "mimetype": "text/x-python",
   "name": "python",
   "nbconvert_exporter": "python",
   "pygments_lexer": "ipython3",
   "version": "3.8.5"
  }
 },
 "nbformat": 4,
 "nbformat_minor": 5
}
