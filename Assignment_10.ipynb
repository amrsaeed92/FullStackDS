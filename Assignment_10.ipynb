{
 "cells": [
  {
   "cell_type": "markdown",
   "metadata": {},
   "source": [
    "### Question 1: How do you distinguish between shutil.copy() and shutil.copytree()?"
   ]
  },
  {
   "cell_type": "markdown",
   "metadata": {},
   "source": [
    "\n",
    "shutil.copy() will copy a single file,\n",
    "shutil.copytree() will copy an entire folder and every folder and file contained in it. "
   ]
  },
  {
   "cell_type": "markdown",
   "metadata": {},
   "source": [
    "### Question 2 : What function is used to rename files??"
   ]
  },
  {
   "cell_type": "markdown",
   "metadata": {},
   "source": [
    "os.rename('old name', 'new name')\n",
    "or\n",
    "shutil.move('old name', ''new name'')"
   ]
  },
  {
   "cell_type": "markdown",
   "metadata": {},
   "source": [
    "### Question 3 : What is the difference between the delete functions in the send2trash and shutil modules?"
   ]
  },
  {
   "cell_type": "markdown",
   "metadata": {},
   "source": [
    "send2trash sends file to recycle bin and shutil module deletes file permanantly."
   ]
  },
  {
   "cell_type": "markdown",
   "metadata": {},
   "source": [
    "### Question 4: ZipFile objects have a close() method just like File objects’ close() method. What ZipFile method is equivalent to File objects’ open() method?"
   ]
  },
  {
   "cell_type": "markdown",
   "metadata": {},
   "source": [
    "to open or write to a zipfile we use 'w' as second argument similar to file objects open()"
   ]
  },
  {
   "cell_type": "code",
   "execution_count": 2,
   "metadata": {},
   "outputs": [],
   "source": [
    "import zipfile as zf\n",
    "a = zf.ZipFile(\"file.zip\",'w')\n",
    "a.close()"
   ]
  },
  {
   "cell_type": "markdown",
   "metadata": {},
   "source": [
    "### Question 5 : Create a programme that searches a folder tree for files with a certain file extension (such as .pdf or .jpg). Copy these files from whatever location they are in to a new folder."
   ]
  },
  {
   "cell_type": "code",
   "execution_count": 7,
   "metadata": {},
   "outputs": [
    {
     "name": "stdout",
     "output_type": "stream",
     "text": [
      "searching in D:\\Scholarships\\Amr Alkamel for ['.pdf', '.jpg'] file\n",
      "Coping D:\\Scholarships\\Amr Alkamel\\Amr Alkamel - NPU.pdf to D:\\Scholarships\\new AmrAlkamel\n",
      "Coping D:\\Scholarships\\Amr Alkamel\\Amr Photo.jpg to D:\\Scholarships\\new AmrAlkamel\n",
      "Coping D:\\Scholarships\\Amr Alkamel\\Hamas Alnedhari - Shaanxi Normal Univ.pdf to D:\\Scholarships\\new AmrAlkamel\n",
      "Coping D:\\Scholarships\\Amr Alkamel\\Hamas Extension.jpg to D:\\Scholarships\\new AmrAlkamel\n",
      "Coping D:\\Scholarships\\Amr Alkamel\\Hamas Photo.jpg to D:\\Scholarships\\new AmrAlkamel\n"
     ]
    }
   ],
   "source": [
    "import os, shutil\n",
    "\n",
    "def search_and_copy(folder, extensions, dest):\n",
    "    folder = os.path.abspath(folder)\n",
    "    dest = os.path.abspath(dest)\n",
    "    print(f'searching in {folder} for {extensions} file')\n",
    "    for foldername, subfolders, filenames in os.walk(folder):\n",
    "        for filename in filenames:\n",
    "            name, extension = os.path.splitext(filename)\n",
    "            if extension in extensions:\n",
    "                fileAbsPath = foldername + os.path.sep + filename\n",
    "                print('Coping', fileAbsPath, 'to', dest)\n",
    "                shutil.copy(fileAbsPath, dest)\n",
    "\n",
    "extensions = ['.pdf','.jpg']\n",
    "folder = r'D:\\Scholarships\\Amr Alkamel'\n",
    "dest = r'D:\\Scholarships\\new AmrAlkamel'\n",
    "search_and_copy(folder, extensions, dest)"
   ]
  },
  {
   "cell_type": "code",
   "execution_count": null,
   "metadata": {},
   "outputs": [],
   "source": []
  }
 ],
 "metadata": {
  "kernelspec": {
   "display_name": "Python 3",
   "language": "python",
   "name": "python3"
  },
  "language_info": {
   "codemirror_mode": {
    "name": "ipython",
    "version": 3
   },
   "file_extension": ".py",
   "mimetype": "text/x-python",
   "name": "python",
   "nbconvert_exporter": "python",
   "pygments_lexer": "ipython3",
   "version": "3.8.5"
  }
 },
 "nbformat": 4,
 "nbformat_minor": 5
}
