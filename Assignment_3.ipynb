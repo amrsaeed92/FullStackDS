{
 "cells": [
  {
   "cell_type": "markdown",
   "metadata": {},
   "source": [
    "#1. Why are functions advantageous to have in your programs?\n",
    "Reusability of code which makes the overall code shorter, \n",
    "more effected, easy to read, update and maintain. "
   ]
  },
  {
   "cell_type": "markdown",
   "metadata": {},
   "source": [
    "#2. When does the code in a function run: when it&#39;s specified or when it is called?\n",
    "\n",
    "when the function is called from any currently running code. "
   ]
  },
  {
   "cell_type": "code",
   "execution_count": 2,
   "metadata": {},
   "outputs": [],
   "source": [
    "#3. What statement creates a function?\n",
    "def fun_name(args):\n",
    "    return results"
   ]
  },
  {
   "cell_type": "markdown",
   "metadata": {},
   "source": [
    "#4. What is the difference between a function and a function call?\n",
    "The function means a predefined code written to achieve special tasks \n",
    "and will only perform if it is called using the function call (function_name(list of params))."
   ]
  },
  {
   "cell_type": "markdown",
   "metadata": {},
   "source": [
    "#5. How many global scopes are there in a Python program? How many local scopes?\n",
    "Only one global scope in the program; however, there could be many local scopes. "
   ]
  },
  {
   "cell_type": "markdown",
   "metadata": {},
   "source": [
    "#6. What happens to variables in a local scope when the function call returns?\n",
    "The local scope variables are destroyed and forgetten if the function call returns"
   ]
  },
  {
   "cell_type": "markdown",
   "metadata": {},
   "source": [
    "#7. What is the concept of a return value? Is it possible to have a return value in an expression?\n",
    "The return value is the result of the function script processing. Yes the return value can be a part of an expression."
   ]
  },
  {
   "cell_type": "markdown",
   "metadata": {},
   "source": [
    "#8. If a function does not have a return statement, what is the return value of a call to that function?\n",
    "The return value in this scenario is none. "
   ]
  },
  {
   "cell_type": "markdown",
   "metadata": {},
   "source": [
    "#9. How do you make a function variable refer to the global variable?\n",
    "By using the python global keyword "
   ]
  },
  {
   "cell_type": "code",
   "execution_count": 3,
   "metadata": {},
   "outputs": [
    {
     "data": {
      "text/plain": [
       "NoneType"
      ]
     },
     "execution_count": 3,
     "metadata": {},
     "output_type": "execute_result"
    }
   ],
   "source": [
    "#10. What is the data type of None?\n",
    "#the data type of None is NoneType\n",
    "type(None)"
   ]
  },
  {
   "cell_type": "markdown",
   "metadata": {},
   "source": [
    "#11. What does the sentence import areallyourpetsnamederic do?\n",
    "It is gonna import the areallyourpetsnamederic module."
   ]
  },
  {
   "cell_type": "code",
   "execution_count": null,
   "metadata": {},
   "outputs": [],
   "source": [
    "#12. If you had a bacon() feature in a spam module, what would you call it after importing spam?\n",
    "import spam\n",
    "spam.bacon()"
   ]
  },
  {
   "cell_type": "markdown",
   "metadata": {},
   "source": [
    "#13. What can you do to save a programme from crashing if it encounters an error?\n",
    "It is achieved by using exception handling\n",
    "try:\n",
    "    #code with anticipated error\n",
    "except Exception as e:\n",
    "    #error handling script\n"
   ]
  },
  {
   "cell_type": "markdown",
   "metadata": {},
   "source": [
    "#14. What is the purpose of the try clause? What is the purpose of the except clause?\n",
    "try is used to handle the code with the anticipated error saving the entire program from crashing.\n",
    "except is used to handle the anticipated error if occurrs.\n",
    "try:\n",
    "    #code with anticipated error\n",
    "except Exception as e:\n",
    "    #error handling script\n"
   ]
  },
  {
   "cell_type": "code",
   "execution_count": null,
   "metadata": {},
   "outputs": [],
   "source": []
  }
 ],
 "metadata": {
  "kernelspec": {
   "display_name": "Python 3",
   "language": "python",
   "name": "python3"
  },
  "language_info": {
   "codemirror_mode": {
    "name": "ipython",
    "version": 3
   },
   "file_extension": ".py",
   "mimetype": "text/x-python",
   "name": "python",
   "nbconvert_exporter": "python",
   "pygments_lexer": "ipython3",
   "version": "3.8.5"
  }
 },
 "nbformat": 4,
 "nbformat_minor": 4
}
