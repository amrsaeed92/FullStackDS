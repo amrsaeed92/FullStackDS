{
 "cells": [
  {
   "cell_type": "code",
   "execution_count": 1,
   "metadata": {},
   "outputs": [
    {
     "name": "stdout",
     "output_type": "stream",
     "text": [
      "Hello Python\n"
     ]
    }
   ],
   "source": [
    "#1. Write a Python program to print \"Hello Python\"?\n",
    "\n",
    "print('Hello Python')"
   ]
  },
  {
   "cell_type": "code",
   "execution_count": 4,
   "metadata": {},
   "outputs": [
    {
     "name": "stdout",
     "output_type": "stream",
     "text": [
      "This program is used to find the devision or addition of two numbers: \n",
      "Enter the first number: 9\n",
      "Enter the second number: 3\n",
      "enter the operation required (+ or /): /\n",
      "3.0\n"
     ]
    }
   ],
   "source": [
    "#2. Write a Python program to do arithmetical operations addition and division.?\n",
    "\n",
    "print('This program is used to find the devision or addition of two numbers: ')\n",
    "x = float(input('Enter the first number: '))\n",
    "y = float(input('Enter the second number: '))\n",
    "ops = input('enter the operation required (+ or /): ')\n",
    "\n",
    "if ops == '+':\n",
    "    print(x+y)\n",
    "elif ops == '/':\n",
    "    print(x/y)\n",
    "else:\n",
    "    print('this operation is not supported yet')"
   ]
  },
  {
   "cell_type": "code",
   "execution_count": 6,
   "metadata": {},
   "outputs": [
    {
     "name": "stdout",
     "output_type": "stream",
     "text": [
      "This code is used to find the area of a triangle by a given base and height values\n",
      "Enter the base of a triangle:5\n",
      "Enter the height of a triangle: 6\n",
      "The area of the triangle should be: 15.0\n"
     ]
    }
   ],
   "source": [
    "#3. Write a Python program to find the area of a triangle?\n",
    "print('This code is used to find the area of a triangle by a given base and height values')\n",
    "base = float(input('Enter the base of a triangle:'))\n",
    "height = float(input('Enter the height of a triangle: '))\n",
    "print(f'The area of the triangle should be: {base*height/2}')"
   ]
  },
  {
   "cell_type": "code",
   "execution_count": 7,
   "metadata": {},
   "outputs": [
    {
     "name": "stdout",
     "output_type": "stream",
     "text": [
      "4. Write a Python program to swap two variables?\n",
      "Enter the first number x= 5\n",
      "Enter the second number y= 7\n",
      "x: 7.0\n",
      "y: 5.0\n"
     ]
    }
   ],
   "source": [
    "#4. Write a Python program to swap two variables?\n",
    "print('4. Write a Python program to swap two variables?')\n",
    "x = float(input('Enter the first number x= '))\n",
    "y = float(input('Enter the second number y= '))\n",
    "temp = x\n",
    "x = y\n",
    "y = temp\n",
    "print(f'x: {x}')\n",
    "print(f'y: {y}')"
   ]
  },
  {
   "cell_type": "code",
   "execution_count": 16,
   "metadata": {},
   "outputs": [
    {
     "name": "stdout",
     "output_type": "stream",
     "text": [
      "5. Write a Python program to generate a random number?\n",
      "Enter the start number: 3\n",
      "Enter the end number: 30\n",
      "The generated random number between 3.0 and 30.0 is: 15\n"
     ]
    }
   ],
   "source": [
    "import random\n",
    "#5. Write a Python program to generate a random number?\n",
    "print('5. Write a Python program to generate a random number?')\n",
    "x = float(input('Enter the start number: '))\n",
    "y = float(input('Enter the end number: '))\n",
    "print(f'The generated random number between {x} and {y} is: {random.random()}')\n"
   ]
  },
  {
   "cell_type": "code",
   "execution_count": null,
   "metadata": {},
   "outputs": [],
   "source": []
  },
  {
   "cell_type": "code",
   "execution_count": null,
   "metadata": {},
   "outputs": [],
   "source": []
  }
 ],
 "metadata": {
  "kernelspec": {
   "display_name": "Python 3",
   "language": "python",
   "name": "python3"
  },
  "language_info": {
   "codemirror_mode": {
    "name": "ipython",
    "version": 3
   },
   "file_extension": ".py",
   "mimetype": "text/x-python",
   "name": "python",
   "nbconvert_exporter": "python",
   "pygments_lexer": "ipython3",
   "version": "3.8.5"
  }
 },
 "nbformat": 4,
 "nbformat_minor": 5
}
