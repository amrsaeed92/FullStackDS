{
 "cells": [
  {
   "cell_type": "code",
   "execution_count": 18,
   "metadata": {},
   "outputs": [
    {
     "name": "stdout",
     "output_type": "stream",
     "text": [
      "Enter the number of Fibonacci repittions: 10\n"
     ]
    },
    {
     "data": {
      "text/plain": [
       "[0, 1, 1, 2, 3, 5, 8, 13, 21, 34]"
      ]
     },
     "execution_count": 18,
     "metadata": {},
     "output_type": "execute_result"
    }
   ],
   "source": [
    "#1. Write a Python Program to Display Fibonacci Sequence Using Recursion?\n",
    "def Fibonancci(n):\n",
    "    if n > 1:\n",
    "        return(Fibonancci(n - 1) + Fibonancci(n - 2))    \n",
    "    else:\n",
    "        return n\n",
    "\n",
    "fib = []    \n",
    "num = int(input('Enter the number of Fibonacci repittions: ').strip())    \n",
    "if num > 0:\n",
    "    for n in range(num):\n",
    "        fib.append(Fibonancci(n))\n",
    "\n",
    "fib"
   ]
  },
  {
   "cell_type": "code",
   "execution_count": 21,
   "metadata": {},
   "outputs": [
    {
     "data": {
      "text/plain": [
       "24"
      ]
     },
     "execution_count": 21,
     "metadata": {},
     "output_type": "execute_result"
    }
   ],
   "source": [
    "#2. Write a Python Program to Find Factorial of Number Using Recursion?\n",
    "def factorial (n):\n",
    "    if n <= 1:\n",
    "        return 1\n",
    "    else:\n",
    "        return n * factorial(n-1)\n",
    "\n",
    "factorial(4)"
   ]
  },
  {
   "cell_type": "code",
   "execution_count": 28,
   "metadata": {},
   "outputs": [
    {
     "name": "stdout",
     "output_type": "stream",
     "text": [
      "Enter Weight in kgs: 73\n",
      "Enter Height in cm: 170\n"
     ]
    },
    {
     "data": {
      "text/plain": [
       "'Body Mass Index BMI is : 25.26, Your weight is Overweight.'"
      ]
     },
     "execution_count": 28,
     "metadata": {},
     "output_type": "execute_result"
    }
   ],
   "source": [
    "#3. Write a Python Program to calculate your Body Mass Index?\n",
    "def body_mi(wt,ht):\n",
    "    BMI = wt/(ht/100)**2\n",
    "    if BMI < 18.5:\n",
    "        return (f\"Body Mass Index BMI is : {BMI:.2f}, Your weight is Underweight.\")\n",
    "    elif BMI >= 18.5 and BMI < 24.9:\n",
    "        return (f\"Body Mass Index BMI is : {BMI:.2f}, Your weight is Normal.\")\n",
    "    elif BMI >= 25 and BMI < 29.9:\n",
    "        return (f\"Body Mass Index BMI is : {BMI:.2f}, Your weight is Overweight.\")\n",
    "    else:\n",
    "        return (f\"Body Mass Index BMI is : {BMI:.2f}, Your weight is Obesity.\")\n",
    "\n",
    "weight = float(input(\"Enter Weight in kgs: \"))\n",
    "height = float(input(\"Enter Height in cm: \"))\n",
    "\n",
    "body_mi(weight,height)"
   ]
  },
  {
   "cell_type": "code",
   "execution_count": 29,
   "metadata": {},
   "outputs": [
    {
     "name": "stdout",
     "output_type": "stream",
     "text": [
      "Enter a number: 5\n",
      "Natural Logarithm of 5.0 is: 1.6094379124341003\n"
     ]
    }
   ],
   "source": [
    "#4. Write a Python Program to calculate the natural logarithm of any number?\n",
    "import math\n",
    "n = float(input('Enter a number: ').strip())\n",
    "print(f'Natural Logarithm of {n} is: {math.log(n)}')"
   ]
  },
  {
   "cell_type": "code",
   "execution_count": 41,
   "metadata": {},
   "outputs": [
    {
     "name": "stdout",
     "output_type": "stream",
     "text": [
      "Enter a number: 10\n"
     ]
    },
    {
     "data": {
      "text/plain": [
       "3025"
      ]
     },
     "execution_count": 41,
     "metadata": {},
     "output_type": "execute_result"
    }
   ],
   "source": [
    "#5. Write a Python Program for cube sum of first n natural numbers?\n",
    "def cube(num ):\n",
    "    s = 0\n",
    "    for i in range(1, num+1):\n",
    "        s = s+ i**3\n",
    "    return s\n",
    "n = int(input('Enter a number: ').strip())\n",
    "cube(n)"
   ]
  },
  {
   "cell_type": "code",
   "execution_count": null,
   "metadata": {},
   "outputs": [],
   "source": []
  }
 ],
 "metadata": {
  "kernelspec": {
   "display_name": "Python 3",
   "language": "python",
   "name": "python3"
  },
  "language_info": {
   "codemirror_mode": {
    "name": "ipython",
    "version": 3
   },
   "file_extension": ".py",
   "mimetype": "text/x-python",
   "name": "python",
   "nbconvert_exporter": "python",
   "pygments_lexer": "ipython3",
   "version": "3.8.5"
  }
 },
 "nbformat": 4,
 "nbformat_minor": 4
}
