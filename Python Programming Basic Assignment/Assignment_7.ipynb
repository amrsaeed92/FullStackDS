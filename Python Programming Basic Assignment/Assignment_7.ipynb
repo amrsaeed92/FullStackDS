{
 "cells": [
  {
   "cell_type": "code",
   "execution_count": 1,
   "metadata": {},
   "outputs": [
    {
     "data": {
      "text/plain": [
       "77"
      ]
     },
     "execution_count": 1,
     "metadata": {},
     "output_type": "execute_result"
    }
   ],
   "source": [
    "#1. Write a Python Program to find sum of array?\n",
    "def arraySum(arr):\n",
    "    sum = 0\n",
    "    for i in arr:\n",
    "        sum = sum+i\n",
    "    return sum\n",
    "\n",
    "arr =[2,5,6,7,8,3,2,44]\n",
    "arraySum(arr)"
   ]
  },
  {
   "cell_type": "code",
   "execution_count": 2,
   "metadata": {},
   "outputs": [
    {
     "data": {
      "text/plain": [
       "117"
      ]
     },
     "execution_count": 2,
     "metadata": {},
     "output_type": "execute_result"
    }
   ],
   "source": [
    "#2. Write a Python Program to find largest element in an array?\n",
    "def arrayMax(arr):\n",
    "    max = arr[0]\n",
    "    for i in arr:\n",
    "        if i > max:\n",
    "            max = i\n",
    "    return max\n",
    "\n",
    "arr =[2,5,6,117,8,3,2,44]\n",
    "arrayMax(arr)\n"
   ]
  },
  {
   "cell_type": "code",
   "execution_count": 3,
   "metadata": {},
   "outputs": [
    {
     "data": {
      "text/plain": [
       "[44, 2, 3, 8, 117, 6, 5, 2]"
      ]
     },
     "execution_count": 3,
     "metadata": {},
     "output_type": "execute_result"
    }
   ],
   "source": [
    "#3. Write a Python Program for array rotation?\n",
    "def rotation(arr):\n",
    "    rot = []\n",
    "    l = len(arr)\n",
    "    for i in range(len(arr)):\n",
    "        rot.append(arr[len(arr)-1-i])\n",
    "    return rot\n",
    "\n",
    "arr =[2,5,6,117,8,3,2,44]\n",
    "rotation(arr)"
   ]
  },
  {
   "cell_type": "code",
   "execution_count": 11,
   "metadata": {},
   "outputs": [
    {
     "name": "stdout",
     "output_type": "stream",
     "text": [
      "Enter element 1: 88\n",
      "Enter element 2: 12\n",
      "Enter element 3: 55\n",
      "Enter element 4: 32\n",
      "Enter element 5: 0\n",
      "Enter element 6: 9\n",
      "Enter element 7: 1\n",
      "Enter element 8: 8\n"
     ]
    },
    {
     "data": {
      "text/plain": [
       "[0, 9, 1, 8, 88, 12, 55, 32]"
      ]
     },
     "execution_count": 11,
     "metadata": {},
     "output_type": "execute_result"
    }
   ],
   "source": [
    "#4. Write a Python Program to Split the array and add the first part to the end?\n",
    "def createNumArray(length):\n",
    "    array = []\n",
    "    for i in range(length):\n",
    "        array.append( int(input(f'Enter element {i+1}: ').strip()) )\n",
    "    return array\n",
    "\n",
    "def splitArray(arr):\n",
    "    length = len(arr)\n",
    "    mid = length//2\n",
    "    return arr[:mid], arr[mid:]\n",
    "\n",
    "array = []\n",
    "f_split, s_split = splitArray(createNumArray(8))\n",
    "array.extend(s_split)\n",
    "array.extend(f_split)\n",
    "array\n",
    "        \n",
    "\n"
   ]
  },
  {
   "cell_type": "code",
   "execution_count": 16,
   "metadata": {},
   "outputs": [
    {
     "name": "stdout",
     "output_type": "stream",
     "text": [
      "Enter element 1: 1\n",
      "Enter element 2: 2\n",
      "Enter element 3: 3\n",
      "Enter element 4: 4\n",
      "Enter element 5: 5\n",
      "The Array is monotonic\n"
     ]
    }
   ],
   "source": [
    "#5. Write a Python Program to check if given array is Monotonic?\n",
    "def createNumArray(length):\n",
    "    array = []\n",
    "    for i in range(length):\n",
    "        array.append( int(input(f'Enter element {i+1}: ').strip()) )\n",
    "    return array\n",
    "\n",
    "def monotonicArray(arr):\n",
    "    return all(arr[i]<=arr[i+1] for i in range(len(arr)-1)) or all(arr[i]>=arr[i+1] for i in range(len(arr)-1))\n",
    "\n",
    "if monotonicArray(createNumArray(5)):\n",
    "    print(f'The Array is monotonic')\n",
    "else:\n",
    "    print(f'The Array is not monotonic')"
   ]
  },
  {
   "cell_type": "code",
   "execution_count": null,
   "metadata": {},
   "outputs": [],
   "source": []
  },
  {
   "cell_type": "code",
   "execution_count": null,
   "metadata": {},
   "outputs": [],
   "source": []
  },
  {
   "cell_type": "code",
   "execution_count": null,
   "metadata": {},
   "outputs": [],
   "source": []
  }
 ],
 "metadata": {
  "kernelspec": {
   "display_name": "Python 3",
   "language": "python",
   "name": "python3"
  },
  "language_info": {
   "codemirror_mode": {
    "name": "ipython",
    "version": 3
   },
   "file_extension": ".py",
   "mimetype": "text/x-python",
   "name": "python",
   "nbconvert_exporter": "python",
   "pygments_lexer": "ipython3",
   "version": "3.8.3"
  }
 },
 "nbformat": 4,
 "nbformat_minor": 4
}
