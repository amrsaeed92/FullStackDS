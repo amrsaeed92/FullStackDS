{
 "cells": [
  {
   "cell_type": "code",
   "execution_count": 4,
   "metadata": {},
   "outputs": [
    {
     "name": "stdout",
     "output_type": "stream",
     "text": [
      "Enter the first number: 6\n",
      "Enter the second number: 8\n",
      "The LCM of both 6 and 8 is 24\n"
     ]
    }
   ],
   "source": [
    "#1. Write a Python Program to Find LCM?\n",
    "def LCM(num1, num2):\n",
    "    m = maximum(num1,num2)\n",
    "    while True:\n",
    "        if m % num1 == 0 and m % num2 == 0:\n",
    "            return m\n",
    "        else:\n",
    "            m = m + 1\n",
    "    \n",
    "def maximum(num1, num2):\n",
    "    if num1 > num2:\n",
    "        return num1\n",
    "    else:\n",
    "        return num2\n",
    "\n",
    "x = int(input('Enter the first number: ').strip())\n",
    "y = int(input('Enter the second number: ').strip())\n",
    "print(f'The LCM of both {x} and {y} is {LCM(x,y)}')\n",
    "    "
   ]
  },
  {
   "cell_type": "code",
   "execution_count": 14,
   "metadata": {},
   "outputs": [
    {
     "name": "stdout",
     "output_type": "stream",
     "text": [
      "Enter the first number: 60\n",
      "Enter the second number: 40\n",
      "The HVF of both 60 and 40 is 20\n"
     ]
    }
   ],
   "source": [
    "#2. Write a Python Program to Find HCF?\n",
    "def HCF(num1, num2):\n",
    "    m = minimum(num1,num2)\n",
    "    while True:\n",
    "        if  num1 % m == 0 and num2 % m == 0:\n",
    "            return m\n",
    "        else:\n",
    "            m -= 1\n",
    "    \n",
    "def minimum(num1, num2):\n",
    "    if num1 < num2:\n",
    "        return num1\n",
    "    else:\n",
    "        return num2\n",
    "\n",
    "x = int(input('Enter the first number: ').strip())\n",
    "y = int(input('Enter the second number: ').strip())\n",
    "print(f'The HVF of both {x} and {y} is {HCF(x,y)}')\n",
    "    "
   ]
  },
  {
   "cell_type": "code",
   "execution_count": 17,
   "metadata": {},
   "outputs": [
    {
     "name": "stdout",
     "output_type": "stream",
     "text": [
      "Enter a decimal number: 4\n",
      "Decimal to Binary: 0b100\n",
      "Decimal to Octal: 0o4\n",
      "Decimal to Hexadecimal: 0x4\n"
     ]
    }
   ],
   "source": [
    "#3. Write a Python Program to Convert Decimal to Binary, Octal and Hexadecimal?\n",
    "x = int(input('Enter a decimal number: ').strip())\n",
    "print(f'Decimal to Binary: {bin(x)}')\n",
    "print(f'Decimal to Octal: {oct(x)}')\n",
    "print(f'Decimal to Hexadecimal: {hex(x)}')"
   ]
  },
  {
   "cell_type": "code",
   "execution_count": null,
   "metadata": {},
   "outputs": [],
   "source": [
    "#4. Write a Python Program To Find ASCII value of a character?\n"
   ]
  },
  {
   "cell_type": "code",
   "execution_count": 18,
   "metadata": {},
   "outputs": [
    {
     "name": "stdout",
     "output_type": "stream",
     "text": [
      "Enter a character: a\n",
      "ASCII value of a is 97\n"
     ]
    }
   ],
   "source": [
    "x = input('Enter a character: ').strip()\n",
    "print(f'ASCII value of {x} is {ord(x)}')"
   ]
  },
  {
   "cell_type": "code",
   "execution_count": 25,
   "metadata": {},
   "outputs": [
    {
     "name": "stdout",
     "output_type": "stream",
     "text": [
      "Please select an operation:\n",
      "Add : '+'\n",
      "Sub : '-' \n",
      "Mul : '*'\n",
      "Div : '/'\n",
      "Quit : 'c'\n",
      "\n",
      "Your Selection : \n",
      "*\n",
      "Enter the first number: 5\n",
      "Enter the second number: 6\n",
      "Answer:  30.0\n",
      "\n",
      "\n",
      "Please select an operation:\n",
      "Add : '+'\n",
      "Sub : '-' \n",
      "Mul : '*'\n",
      "Div : '/'\n",
      "Quit : 'c'\n",
      "\n",
      "Your Selection : \n",
      "/\n",
      "Enter the first number: 30\n",
      "Enter the second number: 5\n",
      "Answer:  6.0\n",
      "\n",
      "\n",
      "Please select an operation:\n",
      "Add : '+'\n",
      "Sub : '-' \n",
      "Mul : '*'\n",
      "Div : '/'\n",
      "Quit : 'c'\n",
      "\n",
      "Your Selection : \n",
      "/\n",
      "Enter the first number: 15\n",
      "Enter the second number: 2\n",
      "Answer:  7.5\n",
      "\n",
      "\n",
      "Please select an operation:\n",
      "Add : '+'\n",
      "Sub : '-' \n",
      "Mul : '*'\n",
      "Div : '/'\n",
      "Quit : 'c'\n",
      "\n",
      "Your Selection : \n",
      "+\n",
      "Enter the first number: 5\n",
      "Enter the second number: 8\n",
      "Answer:  13.0\n",
      "\n",
      "\n",
      "Please select an operation:\n",
      "Add : '+'\n",
      "Sub : '-' \n",
      "Mul : '*'\n",
      "Div : '/'\n",
      "Quit : 'c'\n",
      "\n",
      "Your Selection : \n",
      "-\n",
      "Enter the first number: 5\n",
      "Enter the second number: 9\n",
      "Answer:  -4.0\n",
      "\n",
      "\n",
      "Please select an operation:\n",
      "Add : '+'\n",
      "Sub : '-' \n",
      "Mul : '*'\n",
      "Div : '/'\n",
      "Quit : 'c'\n",
      "\n",
      "Your Selection : \n",
      "c\n"
     ]
    }
   ],
   "source": [
    "#5. Write a Python Program to Make a Simple Calculator with 4 basic mathematical operations?\n",
    "message = '''Please select an operation:\n",
    "Add : '+'\n",
    "Sub : '-' \n",
    "Mul : '*'\n",
    "Div : '/'\n",
    "Quit : 'c'\n",
    "\n",
    "Your Selection : \n",
    "'''\n",
    "\n",
    "def add(num1 , num2):\n",
    "    return num1+num2\n",
    "\n",
    "def sub(num1,num2):\n",
    "    return num1-num2\n",
    "\n",
    "def mul(num1,num2):\n",
    "    return num1*num2\n",
    "\n",
    "def div(num1,num2):\n",
    "    try:\n",
    "        return num1/num2\n",
    "    except ZeroDivisionError as e:\n",
    "        print(\"\\nNumber cannot be divided by Zero.\")\n",
    "        \n",
    "\n",
    "def main():\n",
    "    ops = {'+' : add, '-' : sub,'*' : mul, '/' : div}\n",
    "    x = input(message).lower()\n",
    "    while x != 'c':   \n",
    "        try:\n",
    "            num1 = float(input(\"Enter the first number: \").strip())\n",
    "            num2 = float(input(\"Enter the second number: \").strip())\n",
    "            if x in ops:\n",
    "                selected_function = ops[x]\n",
    "                print(\"\\rAnswer: \", selected_function(num1,num2))\n",
    "                print(\"\\n\")\n",
    "            else:\n",
    "                print('Unknown command. Please try again.')\n",
    "        except ValueError as e:\n",
    "            print(\"\\nEnter num1 valid input\")\n",
    "            \n",
    "        x = input(message)\n",
    "\n",
    "\n",
    "        \n",
    "main()"
   ]
  }
 ],
 "metadata": {
  "kernelspec": {
   "display_name": "Python 3",
   "language": "python",
   "name": "python3"
  },
  "language_info": {
   "codemirror_mode": {
    "name": "ipython",
    "version": 3
   },
   "file_extension": ".py",
   "mimetype": "text/x-python",
   "name": "python",
   "nbconvert_exporter": "python",
   "pygments_lexer": "ipython3",
   "version": "3.8.5"
  }
 },
 "nbformat": 4,
 "nbformat_minor": 4
}
