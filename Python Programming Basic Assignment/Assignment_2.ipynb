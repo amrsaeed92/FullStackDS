{
 "cells": [
  {
   "cell_type": "code",
   "execution_count": 8,
   "metadata": {},
   "outputs": [
    {
     "name": "stdout",
     "output_type": "stream",
     "text": [
      "1. Write a Python program to convert kilometers to miles?\n",
      "Please select (1 to convert from kilometers to miles), (2 to convert from mile to kilometers)1\n",
      "Enter the number of kilometers: 150\n",
      "150.0 kilometers equals to  93.21 miles\n"
     ]
    }
   ],
   "source": [
    "#1. Write a Python program to convert kilometers to miles?\n",
    "print('1. Write a Python program to convert kilometers to miles?')\n",
    "\n",
    "ops = int(input('Please select (1 to convert from kilometers to miles), (2 to convert from mile to kilometers)'))\n",
    "\n",
    "if ops == 1:\n",
    "    x = float(input('Enter the number of kilometers: '))\n",
    "    print(f'{x} kilometers equals to {(x*0.6213712): .2f} miles')\n",
    "elif ops == 2:\n",
    "    x = float(input('Enter the number of miles: '))\n",
    "    print(f'{x} miles equals to {(x/0.6213712): .2f} kilometers')\n",
    "else:\n",
    "    print('please enter a correct operation')"
   ]
  },
  {
   "cell_type": "code",
   "execution_count": 14,
   "metadata": {},
   "outputs": [
    {
     "name": "stdout",
     "output_type": "stream",
     "text": [
      "2. Write a Python program to convert Celsius to Fahrenheit?\n",
      "Enter a degree in celsius: 36.7\n",
      "36.7 Cel. Deg equals to 98.06 Feh. Deg\n"
     ]
    }
   ],
   "source": [
    "#2. Write a Python program to convert Celsius to Fahrenheit?\n",
    "print('2. Write a Python program to convert Celsius to Fahrenheit?')\n",
    "\n",
    "celsius = float(input('Enter a degree in celsius: '))\n",
    "print(f'{celsius} Cel. Deg equals to {((9/5)*celsius+32) } Feh. Deg')"
   ]
  },
  {
   "cell_type": "code",
   "execution_count": 21,
   "metadata": {},
   "outputs": [
    {
     "name": "stdout",
     "output_type": "stream",
     "text": [
      "3. Write a Python program to display calendar?\n",
      "Press 1 to display the full year calendar or 2 to display special month calendar 2\n",
      "Enter the year to display its calender: Format is YYYY1994\n",
      "Enter the month of the year ; between (1-12)4\n",
      "     April 1994\n",
      "Mo Tu We Th Fr Sa Su\n",
      "             1  2  3\n",
      " 4  5  6  7  8  9 10\n",
      "11 12 13 14 15 16 17\n",
      "18 19 20 21 22 23 24\n",
      "25 26 27 28 29 30\n",
      "\n"
     ]
    }
   ],
   "source": [
    "import calendar\n",
    "#3. Write a Python program to display calendar?\n",
    "print('3. Write a Python program to display calendar?')\n",
    "ops = int(input('Press 1 to display the full year calendar or 2 to display special month calendar '))\n",
    "\n",
    "if ops == 1:\n",
    "    year = int(input('Enter the year to display its calender: Format is YYYY'))\n",
    "    print(calendar.calendar(theyear = year))\n",
    "elif ops == 2:\n",
    "    year = int(input('Enter the year to display its calender: Format is YYYY'))\n",
    "    month = int(input('Enter the month of the year ; between (1-12)'))\n",
    "    if month >0 & month <=12:\n",
    "        print(calendar.month(year, month))\n",
    "    else:\n",
    "        print('The month is not correct')\n",
    "else:\n",
    "    print('You should press 1 to display the full year calendar or 2 to display special month calendar, try again ')\n"
   ]
  },
  {
   "cell_type": "code",
   "execution_count": 22,
   "metadata": {},
   "outputs": [
    {
     "name": "stdout",
     "output_type": "stream",
     "text": [
      "3. Write a Python program to display calendar?\n",
      "Press 1 to display the full year calendar or 2 to display special month calendar 1\n",
      "Enter the year to display its calender: Format is YYYY1994\n",
      "                                  1994\n",
      "\n",
      "      January                   February                   March\n",
      "Mo Tu We Th Fr Sa Su      Mo Tu We Th Fr Sa Su      Mo Tu We Th Fr Sa Su\n",
      "                1  2          1  2  3  4  5  6          1  2  3  4  5  6\n",
      " 3  4  5  6  7  8  9       7  8  9 10 11 12 13       7  8  9 10 11 12 13\n",
      "10 11 12 13 14 15 16      14 15 16 17 18 19 20      14 15 16 17 18 19 20\n",
      "17 18 19 20 21 22 23      21 22 23 24 25 26 27      21 22 23 24 25 26 27\n",
      "24 25 26 27 28 29 30      28                        28 29 30 31\n",
      "31\n",
      "\n",
      "       April                      May                       June\n",
      "Mo Tu We Th Fr Sa Su      Mo Tu We Th Fr Sa Su      Mo Tu We Th Fr Sa Su\n",
      "             1  2  3                         1             1  2  3  4  5\n",
      " 4  5  6  7  8  9 10       2  3  4  5  6  7  8       6  7  8  9 10 11 12\n",
      "11 12 13 14 15 16 17       9 10 11 12 13 14 15      13 14 15 16 17 18 19\n",
      "18 19 20 21 22 23 24      16 17 18 19 20 21 22      20 21 22 23 24 25 26\n",
      "25 26 27 28 29 30         23 24 25 26 27 28 29      27 28 29 30\n",
      "                          30 31\n",
      "\n",
      "        July                     August                  September\n",
      "Mo Tu We Th Fr Sa Su      Mo Tu We Th Fr Sa Su      Mo Tu We Th Fr Sa Su\n",
      "             1  2  3       1  2  3  4  5  6  7                1  2  3  4\n",
      " 4  5  6  7  8  9 10       8  9 10 11 12 13 14       5  6  7  8  9 10 11\n",
      "11 12 13 14 15 16 17      15 16 17 18 19 20 21      12 13 14 15 16 17 18\n",
      "18 19 20 21 22 23 24      22 23 24 25 26 27 28      19 20 21 22 23 24 25\n",
      "25 26 27 28 29 30 31      29 30 31                  26 27 28 29 30\n",
      "\n",
      "      October                   November                  December\n",
      "Mo Tu We Th Fr Sa Su      Mo Tu We Th Fr Sa Su      Mo Tu We Th Fr Sa Su\n",
      "                1  2          1  2  3  4  5  6                1  2  3  4\n",
      " 3  4  5  6  7  8  9       7  8  9 10 11 12 13       5  6  7  8  9 10 11\n",
      "10 11 12 13 14 15 16      14 15 16 17 18 19 20      12 13 14 15 16 17 18\n",
      "17 18 19 20 21 22 23      21 22 23 24 25 26 27      19 20 21 22 23 24 25\n",
      "24 25 26 27 28 29 30      28 29 30                  26 27 28 29 30 31\n",
      "31\n",
      "\n"
     ]
    }
   ],
   "source": [
    "print('3. Write a Python program to display calendar?')\n",
    "ops = int(input('Press 1 to display the full year calendar or 2 to display special month calendar '))\n",
    "\n",
    "if ops == 1:\n",
    "    year = int(input('Enter the year to display its calender: Format is YYYY'))\n",
    "    print(calendar.calendar(theyear = year))\n",
    "elif ops == 2:\n",
    "    year = int(input('Enter the year to display its calender: Format is YYYY'))\n",
    "    month = int(input('Enter the month of the year ; between (1-12)'))\n",
    "    if month >0 & month <=12:\n",
    "        print(calendar.month(year, month))\n",
    "    else:\n",
    "        print('The month is not correct')\n",
    "else:\n",
    "    print('You should press 1 to display the full year calendar or 2 to display special month calendar, try again ')\n"
   ]
  },
  {
   "cell_type": "code",
   "execution_count": 24,
   "metadata": {},
   "outputs": [
    {
     "name": "stdout",
     "output_type": "stream",
     "text": [
      "4. Write a Python program to solve quadratic equation?\n",
      "input the value of a: 2\n",
      "input the value of b: 4\n",
      "input the value of c: 3\n",
      "The two roots are: -1.00+0.71j and -1.00-0.71j\n"
     ]
    }
   ],
   "source": [
    "#4. Write a Python program to solve quadratic equation?\n",
    "print('4. Write a Python program to solve quadratic equation?')\n",
    "a = float(input('input the value of a: '))\n",
    "b = float(input('input the value of b: '))\n",
    "c = float(input('input the value of c: '))\n",
    "\n",
    "root1 = (-b + ((b**2)-(4*a*c))**0.5)/(2*a)\n",
    "root2 = (-b - ((b**2)-(4*a*c))**0.5)/(2*a)\n",
    "print(f\"The two roots are: {root1: .2f} and {root2: .2f}\")"
   ]
  },
  {
   "cell_type": "code",
   "execution_count": 33,
   "metadata": {},
   "outputs": [
    {
     "name": "stdout",
     "output_type": "stream",
     "text": [
      "5. Write a Python program to swap two variables without temp variable?\n",
      "input the value of x: 8\n",
      "input the value of y: 12\n",
      "The value of x = 12.0 and y = 8.0\n"
     ]
    }
   ],
   "source": [
    "#5. Write a Python program to swap two variables without temp variable?\n",
    "print('5. Write a Python program to swap two variables without temp variable?')\n",
    "x = float(input('input the value of x: '))\n",
    "y = float(input('input the value of y: '))\n",
    "x = x+y\n",
    "y = x-y\n",
    "x = x-y\n",
    "print(\"The value of x = {} and y = {}\".format(x,y))"
   ]
  }
 ],
 "metadata": {
  "kernelspec": {
   "display_name": "Python 3",
   "language": "python",
   "name": "python3"
  },
  "language_info": {
   "codemirror_mode": {
    "name": "ipython",
    "version": 3
   },
   "file_extension": ".py",
   "mimetype": "text/x-python",
   "name": "python",
   "nbconvert_exporter": "python",
   "pygments_lexer": "ipython3",
   "version": "3.8.5"
  }
 },
 "nbformat": 4,
 "nbformat_minor": 4
}
