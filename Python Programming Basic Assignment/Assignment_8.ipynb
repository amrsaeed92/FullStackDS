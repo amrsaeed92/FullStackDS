{
 "cells": [
  {
   "cell_type": "code",
   "execution_count": 19,
   "metadata": {},
   "outputs": [
    {
     "data": {
      "text/plain": [
       "[[11, 13, 15], [17, 19, 21], [23, 25, 27]]"
      ]
     },
     "execution_count": 19,
     "metadata": {},
     "output_type": "execute_result"
    }
   ],
   "source": [
    "#1. Write a Python Program to Add Two Matrices?\n",
    "def mat_sum(arr1, arr2):\n",
    "    \n",
    "    output = []\n",
    "    if len(arr1) == len(arr2):\n",
    "        for i in range(len(arr1)):\n",
    "            row = []\n",
    "            for j in range(len(arr1[0])):\n",
    "                row.append(arr1[i][j] + arr2[i][j])\n",
    "            output.append(row)\n",
    "        return output\n",
    "    else:\n",
    "        return f'The two arrays dimensions are not equal, Output: {output}'\n",
    "\n",
    "array1 = [[1,2,3],[4,5,6],[7,8,9]]\n",
    "array2 = [[10, 11, 12],[13,14,15], [16,17,18]]\n",
    "mat_sum(array1, array2)"
   ]
  },
  {
   "cell_type": "code",
   "execution_count": 26,
   "metadata": {},
   "outputs": [
    {
     "data": {
      "text/plain": [
       "[[84, 90, 96], [201, 216, 231], [318, 342, 366]]"
      ]
     },
     "execution_count": 26,
     "metadata": {},
     "output_type": "execute_result"
    }
   ],
   "source": [
    "#2. Write a Python Program to Multiply Two Matrices?\n",
    "def mat_mul(arr1, arr2):\n",
    "    output = []\n",
    "    if len(arr1[0]) == len(arr2):\n",
    "        for i in range(len(arr1)):            \n",
    "            row = []\n",
    "            for j in range(len(arr2[0])):\n",
    "                sum = 0\n",
    "                for k in range(len(arr1)):\n",
    "                    sum += arr1[i][k] * arr2[k][j]\n",
    "                row.append(sum)\n",
    "            output.append(row)\n",
    "        return output\n",
    "    else:\n",
    "        return f'The columns of first array should equals to the rows of the second array, please check dimensions'\n",
    "\n",
    "\n",
    "array1 = [[1,2,3],[4,5,6],[7,8,9]]\n",
    "array2 = [[10, 11, 12],[13,14,15], [16,17,18]]\n",
    "mat_mul(array1, array2)"
   ]
  },
  {
   "cell_type": "code",
   "execution_count": 27,
   "metadata": {},
   "outputs": [
    {
     "data": {
      "text/plain": [
       "[[1, 4, 7], [2, 5, 8], [3, 6, 9]]"
      ]
     },
     "execution_count": 27,
     "metadata": {},
     "output_type": "execute_result"
    }
   ],
   "source": [
    "#3. Write a Python Program to Transpose a Matrix?\n",
    "def mat_trans(arr):\n",
    "    trans = []\n",
    "    for i in range(len(arr)):\n",
    "        row = []\n",
    "        for j in range(len(arr[0])):\n",
    "            row.append(arr[j][i])\n",
    "        trans.append(row)\n",
    "    return trans\n",
    "\n",
    "array1 = [[1,2,3],[4,5,6],[7,8,9]]\n",
    "mat_trans(array1)"
   ]
  },
  {
   "cell_type": "code",
   "execution_count": 29,
   "metadata": {},
   "outputs": [
    {
     "name": "stdout",
     "output_type": "stream",
     "text": [
      "Enter a sentence: I am Amr, I live in China, I am studying FSDS.\n",
      "am\n",
      "am\n",
      "amr,\n",
      "china,\n",
      "fsds.\n",
      "i\n",
      "i\n",
      "i\n",
      "in\n",
      "live\n",
      "studying\n"
     ]
    }
   ],
   "source": [
    "#4. Write a Python Program to Sort Words in Alphabetic Order?\n",
    "sent = input('Enter a sentence: ')\n",
    "splitted = sent.lower().split()\n",
    "splitted.sort()\n",
    "for word in splitted:\n",
    "    print(word)\n",
    "    "
   ]
  },
  {
   "cell_type": "code",
   "execution_count": 31,
   "metadata": {},
   "outputs": [
    {
     "name": "stdout",
     "output_type": "stream",
     "text": [
      "I am amr and my email address is amralkamelm3gmailcom\n"
     ]
    }
   ],
   "source": [
    "#5. Write a Python Program to Remove Punctuation From a String?\n",
    "\n",
    "punc = \"\"\"~!@$(){}[]:;\"'<>,./?-_\"\"\"\n",
    "\n",
    "text = \"(I am amr, and my e-mail address is amr.alkamel.m3@gmail.com.)\"\n",
    "\n",
    "\n",
    "clear = \"\"\n",
    "for i in text:\n",
    "    if i not in punc:\n",
    "        clear = clear + i\n",
    "\n",
    "print(clear)\n"
   ]
  },
  {
   "cell_type": "code",
   "execution_count": null,
   "metadata": {},
   "outputs": [],
   "source": []
  }
 ],
 "metadata": {
  "kernelspec": {
   "display_name": "Python 3",
   "language": "python",
   "name": "python3"
  },
  "language_info": {
   "codemirror_mode": {
    "name": "ipython",
    "version": 3
   },
   "file_extension": ".py",
   "mimetype": "text/x-python",
   "name": "python",
   "nbconvert_exporter": "python",
   "pygments_lexer": "ipython3",
   "version": "3.8.3"
  }
 },
 "nbformat": 4,
 "nbformat_minor": 4
}
