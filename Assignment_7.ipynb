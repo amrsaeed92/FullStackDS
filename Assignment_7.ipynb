{
 "cells": [
  {
   "cell_type": "code",
   "execution_count": 1,
   "metadata": {},
   "outputs": [
    {
     "data": {
      "text/plain": [
       "re.compile(r'some pattern', re.UNICODE)"
      ]
     },
     "execution_count": 1,
     "metadata": {},
     "output_type": "execute_result"
    }
   ],
   "source": [
    "#1. What is the name of the feature responsible for generating Regex objects?\n",
    "import re\n",
    "re.compile(\"some pattern\")"
   ]
  },
  {
   "cell_type": "code",
   "execution_count": 2,
   "metadata": {},
   "outputs": [],
   "source": [
    "#2. Why do raw strings often appear in Regex objects?\n",
    "#Raw strings are used (for example r'\\nPattern') so that backslashes do not have to be escaped.\n"
   ]
  },
  {
   "cell_type": "code",
   "execution_count": null,
   "metadata": {},
   "outputs": [],
   "source": [
    "#3. What is the return value of the search() method?\n",
    "#It is used to check a pattern, so if it finds the pattern then returns the match object else return None."
   ]
  },
  {
   "cell_type": "code",
   "execution_count": 3,
   "metadata": {},
   "outputs": [],
   "source": [
    "#4. From a Match item, how do you get the actual strings that match the pattern?\n",
    "#By using pattern.group() method"
   ]
  },
  {
   "cell_type": "code",
   "execution_count": 4,
   "metadata": {},
   "outputs": [
    {
     "data": {
      "text/plain": [
       "'\\ngroup 0 covers whole part\\ngroup 1 covers first part\\ngroup 2 covers second part\\n'"
      ]
     },
     "execution_count": 4,
     "metadata": {},
     "output_type": "execute_result"
    }
   ],
   "source": [
    "#5. In the regex which created from the r'(\\d\\d\\d)-(\\d\\d\\d-\\d\\d\\d\\d)', what does group zero cover? Group 2? Group 1?\n",
    "'''\n",
    "group 0 covers the entire part\n",
    "group 1 covers first part\n",
    "group 2 covers second part\n",
    "'''"
   ]
  },
  {
   "cell_type": "code",
   "execution_count": 5,
   "metadata": {},
   "outputs": [
    {
     "data": {
      "text/plain": [
       "'\\nBy using a backslash.\\n \\\\., \\\\(, and \\\\)\\n'"
      ]
     },
     "execution_count": 5,
     "metadata": {},
     "output_type": "execute_result"
    }
   ],
   "source": [
    "#6. In standard expression syntax, parentheses and intervals have distinct meanings. How can you tell\n",
    "#a regex that you want it to fit real parentheses and periods?\n",
    "'''\n",
    "By using a backslash.\n",
    " \\., \\(, and \\)\n",
    "'''"
   ]
  },
  {
   "cell_type": "code",
   "execution_count": 6,
   "metadata": {},
   "outputs": [
    {
     "data": {
      "text/plain": [
       "'\\nWhen a regular expression contains groups, the result will be list of tuples\\nHowever,\\nwhen there are no groups in the regular expression, then a list of string is gonna be returned.\\n'"
      ]
     },
     "execution_count": 6,
     "metadata": {},
     "output_type": "execute_result"
    }
   ],
   "source": [
    "#7. The findall() method returns a string list or a list of string tuples. What causes it to return one of\n",
    "#the two options?\n",
    "\n",
    "'''\n",
    "When a regular expression contains groups, the result will be list of tuples\n",
    "However,\n",
    "when there are no groups in the regular expression, then a list of string is gonna be returned.\n",
    "'''"
   ]
  },
  {
   "cell_type": "markdown",
   "metadata": {},
   "source": [
    "#8. In standard expressions, what does the | character mean?\n",
    "#Answer: it means \"or\" between group of regex.\n"
   ]
  },
  {
   "cell_type": "markdown",
   "metadata": {},
   "source": [
    "#9. In regular expressions, what does the character stand for?\n",
    "'?' matches 0 or 1 occurance of the pattern"
   ]
  },
  {
   "cell_type": "markdown",
   "metadata": {},
   "source": [
    "#10.In regular expressions, what is the difference between the + and * characters?\n",
    "+  matches one or more cases.\n",
    "*  matches zero or more cases"
   ]
  },
  {
   "cell_type": "code",
   "execution_count": 11,
   "metadata": {},
   "outputs": [
    {
     "data": {
      "text/plain": [
       "'\\n{4} Matches the expression to its left 4 times, and not less.\\n{4,5) Matches the expression to its left 4 to 5 times, and not less.\\n'"
      ]
     },
     "execution_count": 11,
     "metadata": {},
     "output_type": "execute_result"
    }
   ],
   "source": [
    "#11. What is the difference between {4} and {4,5} in regular expression?\n",
    "'''\n",
    "{4} Matches the expression to its left 4 times, and not less.\n",
    "{4,5) Matches the expression to its left 4 to 5 times, and not less.\n",
    "'''"
   ]
  },
  {
   "cell_type": "code",
   "execution_count": 9,
   "metadata": {},
   "outputs": [
    {
     "data": {
      "text/plain": [
       "'\\n\\\\d Returns a match where the string contains digits (numbers from 0-9)\\n\\\\s Returns a match where the string contains a white space character\\n\\\\w Returns a match where the string contains any word characters\\n(characters from a to Z, digits from 0-9, and the underscore _ character)\\n'"
      ]
     },
     "execution_count": 9,
     "metadata": {},
     "output_type": "execute_result"
    }
   ],
   "source": [
    "#12. What do you mean by the \\d, \\w, and \\s shorthand character classes signify in regular expressions?\n",
    "'''\n",
    "\\d Returns a match where the string contains digits (numbers from 0-9)\n",
    "\\s Returns a match where the string contains a white space character\n",
    "\\w Returns a match where the string contains any word characters\n",
    "(characters from a to Z, digits from 0-9, and the underscore _ character)\n",
    "'''"
   ]
  },
  {
   "cell_type": "code",
   "execution_count": 10,
   "metadata": {},
   "outputs": [
    {
     "data": {
      "text/plain": [
       "'\\n\\\\D  Returns a match where the string DOES NOT contain digits\\n\\\\S  Returns a match where the string DOES NOT contain a white space character\\n\\\\W  Returns a match where the string DOES NOT contain any word characters\\n'"
      ]
     },
     "execution_count": 10,
     "metadata": {},
     "output_type": "execute_result"
    }
   ],
   "source": [
    "#13. What do means by \\D, \\W, and \\S shorthand character classes signify in regular expressions?\n",
    "'''\n",
    "\\D  Returns a match where the string DOES NOT contain digits\n",
    "\\S  Returns a match where the string DOES NOT contain a white space character\n",
    "\\W  Returns a match where the string DOES NOT contain any word characters\n",
    "'''"
   ]
  },
  {
   "cell_type": "code",
   "execution_count": 13,
   "metadata": {},
   "outputs": [
    {
     "data": {
      "text/plain": [
       "'\\n .*?  matches the preceding element (the \".*\" here) 0 or 1 times.\\n .*   matches the preceding element (the \".\" here) 0 or more times.\\n'"
      ]
     },
     "execution_count": 13,
     "metadata": {},
     "output_type": "execute_result"
    }
   ],
   "source": [
    "#14. What is the difference between .*? and .*?\n",
    "'''\n",
    " .*?  matches the preceding element (the \".*\" here) 0 or 1 times.\n",
    " .*   matches the preceding element (the \".\" here) 0 or more times.\n",
    "'''"
   ]
  },
  {
   "cell_type": "code",
   "execution_count": 21,
   "metadata": {},
   "outputs": [
    {
     "name": "stdout",
     "output_type": "stream",
     "text": [
      "I am Amr22:  is not matching\n",
      "iamamr22:  is matching\n"
     ]
    }
   ],
   "source": [
    "#15. What is the syntax for matching both numbers and lowercase letters with a character class?\n",
    "import re\n",
    "def matching(string):\n",
    "    patt = '^[a-z0-9]*$'\n",
    "    if re.search(patt,string):\n",
    "        return string +\":  \"+ \"is matching\"\n",
    "    else:\n",
    "        return string+\":  \"+\"is not matching\"\n",
    "print(matching(\"I am Amr22\"))\n",
    "print(matching('iamamr22'))"
   ]
  },
  {
   "cell_type": "code",
   "execution_count": 22,
   "metadata": {},
   "outputs": [
    {
     "data": {
      "text/plain": [
       "'\\nBy using re.IGNORECASE\\n'"
      ]
     },
     "execution_count": 22,
     "metadata": {},
     "output_type": "execute_result"
    }
   ],
   "source": [
    "#16. What is the procedure for making a normal expression in regax case insensitive?\n",
    "'''\n",
    "By using re.IGNORECASE\n",
    "'''"
   ]
  },
  {
   "cell_type": "code",
   "execution_count": 23,
   "metadata": {},
   "outputs": [
    {
     "data": {
      "text/plain": [
       "'\\n    \".\" matches everything in input except newline character.\\n    \"re.DOTALL\" matches everything including the newline character.\\n'"
      ]
     },
     "execution_count": 23,
     "metadata": {},
     "output_type": "execute_result"
    }
   ],
   "source": [
    "#17. What does the . character normally match? What does it match if re.DOTALL is passed as 2nd argument in re.compile()?\n",
    "'''\n",
    "    \".\" matches everything in input except newline character.\n",
    "    \"re.DOTALL\" matches everything including the newline character.\n",
    "'''"
   ]
  },
  {
   "cell_type": "code",
   "execution_count": 28,
   "metadata": {},
   "outputs": [
    {
     "data": {
      "text/plain": [
       "'X drummers, X pipers, five rings, X hen'"
      ]
     },
     "execution_count": 28,
     "metadata": {},
     "output_type": "execute_result"
    }
   ],
   "source": [
    "#18. If numReg = re.compile(r'\\d+'), what will numRegex.sub('X', '11 drummers, 10 pipers, five rings, 4 hen') return?\n",
    "numReg = re.compile(r'\\d+')\n",
    "numReg.sub('X', '11 drummers, 10 pipers, five rings, 4 hen')\n",
    "#Answer: 'X drummers, X pipers, five rings, X hen'"
   ]
  },
  {
   "cell_type": "code",
   "execution_count": 29,
   "metadata": {},
   "outputs": [
    {
     "data": {
      "text/plain": [
       "'\\n This flag allows you to write regular expressions that look neat and are more readable by allowing you to\\n visually separate logical sections of the pattern and add comments. Whitespace within the pattern is ignored,\\n except when in a character class, or when preceded by an unescaped backslash, or within tokens.\\n'"
      ]
     },
     "execution_count": 29,
     "metadata": {},
     "output_type": "execute_result"
    }
   ],
   "source": [
    "#19. What does passing re.VERBOSE as the 2nd argument to re.compile() allow to do?\n",
    "'''\n",
    " This flag allows you to write regular expressions that look neat and are more readable by allowing you to\n",
    " visually separate logical sections of the pattern and add comments. Whitespace within the pattern is ignored,\n",
    " except when in a character class, or when preceded by an unescaped backslash, or within tokens.\n",
    "'''"
   ]
  },
  {
   "cell_type": "code",
   "execution_count": 34,
   "metadata": {},
   "outputs": [
    {
     "name": "stdout",
     "output_type": "stream",
     "text": [
      "<re.Match object; span=(0, 9), match='6,368,745'>\n",
      "None\n"
     ]
    }
   ],
   "source": [
    "#20. How would you write a regex that match a number with comma for every three digits? It must match the given following:\n",
    "patt = re.compile(r'^\\d{1,3}(,\\d{3})*$') \n",
    "print(patt.search('6,368,745'))\n",
    "print(patt.search('12,34,567'))\n"
   ]
  },
  {
   "cell_type": "code",
   "execution_count": 39,
   "metadata": {},
   "outputs": [
    {
     "name": "stdout",
     "output_type": "stream",
     "text": [
      "<re.Match object; span=(0, 15), match='Haruto Watanabe'>\n",
      "None\n"
     ]
    }
   ],
   "source": [
    "#21. How would you write a regex that matches the full name of someone whose last name is Watanabe? \n",
    "#You can assume that the first name that comes before it will always be one word that begins with a capital letter. \n",
    "#The regex must match the following:\n",
    "'''\n",
    "    'Haruto Watanabe'\n",
    "    'Alice Watanabe'\n",
    "    'RoboCop Watanabe'\n",
    "\n",
    "but not the following:\n",
    "\n",
    "    'haruto Watanabe' (where the first name is not capitalized)\n",
    "    'Mr. Watanabe' (where the preceding word has a nonletter character)\n",
    "    'Watanabe' (which has no first name)\n",
    "    'Haruto watanabe' (where Watanabe is not capitalized)\n",
    "'''\n",
    "\n",
    "patt = re.compile(r'[A-Z][a-z]*\\sWatanabe')\n",
    "print(patt.search('Haruto Watanabe'))\n",
    "print(patt.search('haruto Watanabe'))"
   ]
  },
  {
   "cell_type": "code",
   "execution_count": 41,
   "metadata": {},
   "outputs": [
    {
     "data": {
      "text/plain": [
       "<re.Match object; span=(0, 14), match='Bob pets cats.'>"
      ]
     },
     "execution_count": 41,
     "metadata": {},
     "output_type": "execute_result"
    }
   ],
   "source": [
    "#22. How would you write a regex that matches a sentence where the first word is either Alice, Bob, or Carol; \n",
    "#the second word is either eats, pets, or throws; the third word is apples, cats, or baseballs; \n",
    "#and the sentence ends with a period? This regex should be case-insensitive. It must match the following:\n",
    "\n",
    "'''\n",
    "'Alice eats apples.'\n",
    "'Bob pets cats.'\n",
    "'Carol throws baseballs.'\n",
    "'Alice throws Apples.'\n",
    "'BOB EATS CATS.'¶\n",
    "but not the following:\n",
    "'RoboCop eats apples.'\n",
    "'ALICE THROWS FOOTBALLS.'\n",
    "'Carol eats 7 cats.'\n",
    "'''\n",
    "\n",
    "patt = re.compile(r'(Alice|Bob|Carol)\\s(eats|pets|throws)\\s(apples|cats|baseballs)\\.', re.IGNORECASE)\n",
    "patt.search(\"Bob pets cats.\")"
   ]
  }
 ],
 "metadata": {
  "kernelspec": {
   "display_name": "Python 3",
   "language": "python",
   "name": "python3"
  },
  "language_info": {
   "codemirror_mode": {
    "name": "ipython",
    "version": 3
   },
   "file_extension": ".py",
   "mimetype": "text/x-python",
   "name": "python",
   "nbconvert_exporter": "python",
   "pygments_lexer": "ipython3",
   "version": "3.8.5"
  }
 },
 "nbformat": 4,
 "nbformat_minor": 4
}
